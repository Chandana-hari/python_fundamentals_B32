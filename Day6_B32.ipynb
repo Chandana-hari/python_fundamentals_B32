{
 "cells": [
  {
   "cell_type": "code",
   "execution_count": 2,
   "metadata": {},
   "outputs": [
    {
     "name": "stdout",
     "output_type": "stream",
     "text": [
      "keep up the goodwork,Sai\n"
     ]
    }
   ],
   "source": [
    "students=['ravi','sai','hari','ramu']\n",
    "x=f\"keep up the goodwork,{students[1].title()}\"\n",
    "print(x)"
   ]
  },
  {
   "cell_type": "code",
   "execution_count": 3,
   "metadata": {},
   "outputs": [
    {
     "name": "stdout",
     "output_type": "stream",
     "text": [
      "keep up the goodwork,Ravi\n"
     ]
    }
   ],
   "source": [
    "y=f\"keep up the goodwork,{students[0].title()}\"\n",
    "print(y)"
   ]
  },
  {
   "cell_type": "code",
   "execution_count": null,
   "metadata": {},
   "outputs": [],
   "source": [
    "introduction to for looping:"
   ]
  },
  {
   "cell_type": "code",
   "execution_count": null,
   "metadata": {},
   "outputs": [],
   "source": [
    "syntax: for tempvar in mainvar:\n",
    "        print(tempvar)"
   ]
  },
  {
   "cell_type": "code",
   "execution_count": null,
   "metadata": {},
   "outputs": [],
   "source": []
  },
  {
   "cell_type": "code",
   "execution_count": 6,
   "metadata": {},
   "outputs": [
    {
     "name": "stdout",
     "output_type": "stream",
     "text": [
      "keep up the goodwork,Ravi\n",
      "keep up the goodwork,Ravi\n",
      "\n",
      "keep up the goodwork,Sai\n",
      "keep up the goodwork,Sai\n",
      "\n",
      "keep up the goodwork,Hari\n",
      "keep up the goodwork,Hari\n",
      "\n",
      "keep up the goodwork,Ramu\n",
      "keep up the goodwork,Ramu\n",
      "\n"
     ]
    }
   ],
   "source": [
    "for x in students:\n",
    "    print(f\"keep up the goodwork,{x.title()}\")\n",
    "    print(f\"keep up the goodwork,{x.title()}\\n\")"
   ]
  },
  {
   "cell_type": "code",
   "execution_count": 7,
   "metadata": {},
   "outputs": [
    {
     "name": "stdout",
     "output_type": "stream",
     "text": [
      "keep up the goodwork,Ravi\n",
      "goodwork,Ravi\n",
      "\n",
      "This is python class\n",
      "\n",
      "keep up the goodwork,Sai\n",
      "goodwork,Sai\n",
      "\n",
      "This is python class\n",
      "\n",
      "keep up the goodwork,Hari\n",
      "goodwork,Hari\n",
      "\n",
      "This is python class\n",
      "\n",
      "keep up the goodwork,Ramu\n",
      "goodwork,Ramu\n",
      "\n",
      "This is python class\n",
      "\n"
     ]
    }
   ],
   "source": [
    "for x in students:\n",
    "    print(f\"keep up the goodwork,{x.title()}\") # in the loop\n",
    "    print(f\"goodwork,{x.title()}\\n\") # in the loop\n",
    "    print(f\"This is python class\\n\") # in the loop"
   ]
  },
  {
   "cell_type": "code",
   "execution_count": 8,
   "metadata": {},
   "outputs": [
    {
     "name": "stdout",
     "output_type": "stream",
     "text": [
      "keep up the goodwork,Ravi\n",
      "goodwork,Ravi\n",
      "\n",
      "This is python class\n",
      "\n",
      "keep up the goodwork,Sai\n",
      "goodwork,Sai\n",
      "\n",
      "This is python class\n",
      "\n",
      "keep up the goodwork,Hari\n",
      "goodwork,Hari\n",
      "\n",
      "This is python class\n",
      "\n",
      "keep up the goodwork,Ramu\n",
      "goodwork,Ramu\n",
      "\n",
      "This is python class\n",
      "\n",
      "This is python class\n",
      "\n"
     ]
    }
   ],
   "source": [
    "for x in students:\n",
    "    print(f\"keep up the goodwork,{x.title()}\") # in the loop\n",
    "    print(f\"goodwork,{x.title()}\\n\") # in the loop\n",
    "    print(f\"This is python class\\n\") # in the loop\n",
    "print(f\"This is python class\\n\") # out the loop    "
   ]
  },
  {
   "cell_type": "code",
   "execution_count": null,
   "metadata": {},
   "outputs": [],
   "source": []
  }
 ],
 "metadata": {
  "kernelspec": {
   "display_name": "Python 3",
   "language": "python",
   "name": "python3"
  },
  "language_info": {
   "codemirror_mode": {
    "name": "ipython",
    "version": 3
   },
   "file_extension": ".py",
   "mimetype": "text/x-python",
   "name": "python",
   "nbconvert_exporter": "python",
   "pygments_lexer": "ipython3",
   "version": "3.8.5"
  }
 },
 "nbformat": 4,
 "nbformat_minor": 4
}
